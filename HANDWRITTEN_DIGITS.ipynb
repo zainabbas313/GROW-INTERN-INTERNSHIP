{
  "nbformat": 4,
  "nbformat_minor": 0,
  "metadata": {
    "colab": {
      "provenance": [],
      "collapsed_sections": [
        "_g2xeyYu807n",
        "2YeoA58r83Tx",
        "I23i_DRW87Z_",
        "jktzlodM9E72"
      ],
      "authorship_tag": "ABX9TyPIXPVrI99CZCvNeZs8LHlD",
      "include_colab_link": true
    },
    "kernelspec": {
      "name": "python3",
      "display_name": "Python 3"
    },
    "language_info": {
      "name": "python"
    }
  },
  "cells": [
    {
      "cell_type": "markdown",
      "metadata": {
        "id": "view-in-github",
        "colab_type": "text"
      },
      "source": [
        "<a href=\"https://colab.research.google.com/github/zainabbas313/GROW-INTERN-INTERNSHIP/blob/main/HANDWRITTEN_DIGITS.ipynb\" target=\"_parent\"><img src=\"https://colab.research.google.com/assets/colab-badge.svg\" alt=\"Open In Colab\"/></a>"
      ]
    },
    {
      "cell_type": "markdown",
      "source": [
        "# GROW-INTERN INTERNSHIP -  TASK_03"
      ],
      "metadata": {
        "id": "RXJTq2c89PbR"
      }
    },
    {
      "cell_type": "markdown",
      "source": [
        "# LIRARIES"
      ],
      "metadata": {
        "id": "_g2xeyYu807n"
      }
    },
    {
      "cell_type": "code",
      "execution_count": 5,
      "metadata": {
        "id": "023p_urMyi-B"
      },
      "outputs": [],
      "source": [
        "import numpy as np\n",
        "import pandas as pd\n",
        "import tensorflow as tf\n",
        "from tensorflow.keras.datasets import mnist\n",
        "from tensorflow.keras.models import Sequential\n",
        "from tensorflow.keras.layers import Conv2D, MaxPooling2D, Flatten, Dense, Dropout\n",
        "from tensorflow.keras.utils import to_categorical\n",
        "import matplotlib.pyplot as plt\n",
        "import cv2\n",
        "from google.colab.patches import cv2_imshow"
      ]
    },
    {
      "cell_type": "markdown",
      "source": [
        "# LOAD DATASET"
      ],
      "metadata": {
        "id": "2YeoA58r83Tx"
      }
    },
    {
      "cell_type": "code",
      "source": [
        "(xtrain,ytrain), (xtest,ytest) = mnist.load_data()"
      ],
      "metadata": {
        "id": "iTzT1K0j0Shn"
      },
      "execution_count": 21,
      "outputs": []
    },
    {
      "cell_type": "code",
      "source": [
        "print(f'shape of train data : {xtrain.shape} , {ytrain.shape}')\n",
        "print(f'shape of test data : {xtest.shape} , {ytest.shape}')"
      ],
      "metadata": {
        "colab": {
          "base_uri": "https://localhost:8080/"
        },
        "id": "7gwzrjGv3QHv",
        "outputId": "81e223cf-da0e-4b33-b938-5d2c5c37759a"
      },
      "execution_count": 22,
      "outputs": [
        {
          "output_type": "stream",
          "name": "stdout",
          "text": [
            "shape of train data : (60000, 28, 28) , (60000,)\n",
            "shape of test data : (10000, 28, 28) , (10000,)\n"
          ]
        }
      ]
    },
    {
      "cell_type": "code",
      "source": [
        "xtrain = xtrain.reshape(xtrain.shape[0], 28, 28, 1).astype('float32') / 255\n",
        "xtest = xtest.reshape(xtest.shape[0], 28, 28, 1).astype('float32') / 255"
      ],
      "metadata": {
        "id": "DYGkPPu_3Jqh"
      },
      "execution_count": 34,
      "outputs": []
    },
    {
      "cell_type": "code",
      "source": [
        "ytrain = to_categorical(ytrain, 10)\n",
        "ytest = to_categorical(ytest, 10)"
      ],
      "metadata": {
        "id": "H3qMXqXy3NjF"
      },
      "execution_count": 35,
      "outputs": []
    },
    {
      "cell_type": "markdown",
      "source": [
        "# MODEL TRAINING"
      ],
      "metadata": {
        "id": "I23i_DRW87Z_"
      }
    },
    {
      "cell_type": "code",
      "source": [
        "model = Sequential()\n",
        "model.add(Conv2D(32, (3,3), activation = 'relu', input_shape = (28,28,1)))\n",
        "model.add(MaxPooling2D((2,2)))\n",
        "model.add(Conv2D(64, (3,3), activation = 'relu'))\n",
        "model.add(MaxPooling2D((2,2)))\n",
        "model.add(Flatten())\n",
        "model.add(Dense(128, activation='relu'))\n",
        "model.add(Dropout(0.5))\n",
        "model.add(Dense(10, activation='softmax'))\n"
      ],
      "metadata": {
        "id": "SYRG6PFD5zv9"
      },
      "execution_count": 37,
      "outputs": []
    },
    {
      "cell_type": "code",
      "source": [
        "model.compile(optimizer = 'Adam', loss = 'categorical_crossentropy', metrics = ['accuracy'])"
      ],
      "metadata": {
        "id": "45hNrk7T6Y8O"
      },
      "execution_count": 39,
      "outputs": []
    },
    {
      "cell_type": "code",
      "source": [
        "model.summary()"
      ],
      "metadata": {
        "colab": {
          "base_uri": "https://localhost:8080/"
        },
        "id": "qBJpduF9613_",
        "outputId": "ef1054c6-f948-4044-ccfd-da62de07092a"
      },
      "execution_count": 40,
      "outputs": [
        {
          "output_type": "stream",
          "name": "stdout",
          "text": [
            "Model: \"sequential_1\"\n",
            "_________________________________________________________________\n",
            " Layer (type)                Output Shape              Param #   \n",
            "=================================================================\n",
            " conv2d (Conv2D)             (None, 26, 26, 32)        320       \n",
            "                                                                 \n",
            " max_pooling2d (MaxPooling2  (None, 13, 13, 32)        0         \n",
            " D)                                                              \n",
            "                                                                 \n",
            " conv2d_1 (Conv2D)           (None, 11, 11, 64)        18496     \n",
            "                                                                 \n",
            " max_pooling2d_1 (MaxPoolin  (None, 5, 5, 64)          0         \n",
            " g2D)                                                            \n",
            "                                                                 \n",
            " flatten (Flatten)           (None, 1600)              0         \n",
            "                                                                 \n",
            " dense (Dense)               (None, 128)               204928    \n",
            "                                                                 \n",
            " dropout (Dropout)           (None, 128)               0         \n",
            "                                                                 \n",
            " dense_1 (Dense)             (None, 10)                1290      \n",
            "                                                                 \n",
            "=================================================================\n",
            "Total params: 225034 (879.04 KB)\n",
            "Trainable params: 225034 (879.04 KB)\n",
            "Non-trainable params: 0 (0.00 Byte)\n",
            "_________________________________________________________________\n"
          ]
        }
      ]
    },
    {
      "cell_type": "code",
      "source": [
        "model.fit(xtrain, ytrain, validation_data=(xtest, ytest), epochs=10, batch_size=200, verbose=2)"
      ],
      "metadata": {
        "colab": {
          "base_uri": "https://localhost:8080/"
        },
        "id": "zFtbYNRl6uGD",
        "outputId": "6011773a-bf73-4a36-bb92-0a0ff4bc2602"
      },
      "execution_count": 41,
      "outputs": [
        {
          "output_type": "stream",
          "name": "stdout",
          "text": [
            "Epoch 1/10\n",
            "300/300 - 46s - loss: 0.3718 - accuracy: 0.8874 - val_loss: 0.0760 - val_accuracy: 0.9751 - 46s/epoch - 152ms/step\n",
            "Epoch 2/10\n",
            "300/300 - 54s - loss: 0.1143 - accuracy: 0.9658 - val_loss: 0.0467 - val_accuracy: 0.9835 - 54s/epoch - 180ms/step\n",
            "Epoch 3/10\n",
            "300/300 - 39s - loss: 0.0826 - accuracy: 0.9759 - val_loss: 0.0378 - val_accuracy: 0.9883 - 39s/epoch - 131ms/step\n",
            "Epoch 4/10\n",
            "300/300 - 42s - loss: 0.0691 - accuracy: 0.9796 - val_loss: 0.0303 - val_accuracy: 0.9896 - 42s/epoch - 139ms/step\n",
            "Epoch 5/10\n",
            "300/300 - 42s - loss: 0.0549 - accuracy: 0.9836 - val_loss: 0.0273 - val_accuracy: 0.9915 - 42s/epoch - 140ms/step\n",
            "Epoch 6/10\n",
            "300/300 - 40s - loss: 0.0510 - accuracy: 0.9845 - val_loss: 0.0288 - val_accuracy: 0.9910 - 40s/epoch - 133ms/step\n",
            "Epoch 7/10\n",
            "300/300 - 42s - loss: 0.0425 - accuracy: 0.9869 - val_loss: 0.0269 - val_accuracy: 0.9914 - 42s/epoch - 138ms/step\n",
            "Epoch 8/10\n",
            "300/300 - 40s - loss: 0.0383 - accuracy: 0.9882 - val_loss: 0.0271 - val_accuracy: 0.9914 - 40s/epoch - 134ms/step\n",
            "Epoch 9/10\n",
            "300/300 - 40s - loss: 0.0364 - accuracy: 0.9889 - val_loss: 0.0254 - val_accuracy: 0.9911 - 40s/epoch - 133ms/step\n",
            "Epoch 10/10\n",
            "300/300 - 42s - loss: 0.0321 - accuracy: 0.9901 - val_loss: 0.0265 - val_accuracy: 0.9914 - 42s/epoch - 139ms/step\n"
          ]
        },
        {
          "output_type": "execute_result",
          "data": {
            "text/plain": [
              "<keras.src.callbacks.History at 0x7b608f599b70>"
            ]
          },
          "metadata": {},
          "execution_count": 41
        }
      ]
    },
    {
      "cell_type": "markdown",
      "source": [
        "# EVALUATION"
      ],
      "metadata": {
        "id": "jktzlodM9E72"
      }
    },
    {
      "cell_type": "code",
      "source": [
        "loss_df = pd.DataFrame(model.history.history)"
      ],
      "metadata": {
        "id": "LY8DuxVF7Bqa"
      },
      "execution_count": 44,
      "outputs": []
    },
    {
      "cell_type": "code",
      "source": [
        "loss_df.plot()"
      ],
      "metadata": {
        "colab": {
          "base_uri": "https://localhost:8080/",
          "height": 447
        },
        "id": "j2g-IdxT7IQP",
        "outputId": "b3bc875d-9474-430b-d823-cf39bfddc70f"
      },
      "execution_count": 45,
      "outputs": [
        {
          "output_type": "execute_result",
          "data": {
            "text/plain": [
              "<Axes: >"
            ]
          },
          "metadata": {},
          "execution_count": 45
        },
        {
          "output_type": "display_data",
          "data": {
            "text/plain": [
              "<Figure size 640x480 with 1 Axes>"
            ],
            "image/png": "[encoded data removed]"
          },
          "metadata": {}
        }
      ]
    },
    {
      "cell_type": "code",
      "source": [
        "test_loss, test_acc = model.evaluate(xtest, ytest, verbose=2)\n",
        "print(f'Test accuracy: {test_acc}')"
      ],
      "metadata": {
        "colab": {
          "base_uri": "https://localhost:8080/"
        },
        "id": "OZ8JzQrt6733",
        "outputId": "1b469fd2-edf5-49bd-9c14-6f33e637edd7"
      },
      "execution_count": 46,
      "outputs": [
        {
          "output_type": "stream",
          "name": "stdout",
          "text": [
            "313/313 - 4s - loss: 0.0265 - accuracy: 0.9914 - 4s/epoch - 13ms/step\n",
            "Test accuracy: 0.9914000034332275\n"
          ]
        }
      ]
    },
    {
      "cell_type": "code",
      "source": [],
      "metadata": {
        "id": "JVaOsM_U8xn8"
      },
      "execution_count": null,
      "outputs": []
    }
  ]
}